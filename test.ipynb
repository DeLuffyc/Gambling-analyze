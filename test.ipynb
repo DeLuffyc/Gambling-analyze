{
 "cells": [
  {
   "metadata": {},
   "cell_type": "markdown",
   "source": "### Тестирование промтов и аналитика результата",
   "id": "85c06db55a8ce6af"
  },
  {
   "cell_type": "code",
   "id": "initial_id",
   "metadata": {
    "collapsed": true,
    "ExecuteTime": {
     "end_time": "2025-04-12T14:57:19.325660Z",
     "start_time": "2025-04-12T14:57:19.298236Z"
    }
   },
   "source": [
    "from scriptss import config\n",
    "from request_llm import deekpeek_context_string, openai_context_string\n",
    "from handlers.llm_system_prompts import system_prompt_v1"
   ],
   "outputs": [],
   "execution_count": 15
  },
  {
   "metadata": {
    "ExecuteTime": {
     "end_time": "2025-04-12T14:57:19.773100Z",
     "start_time": "2025-04-12T14:57:19.760608Z"
    }
   },
   "cell_type": "code",
   "source": [
    "import pandas as pd\n",
    "from datetime import datetime\n",
    "\n",
    "def save_csv(query, deepseek, open_ai):\n",
    "    data = {\n",
    "        'query': [query],\n",
    "        'deepseek': [deepseek],\n",
    "        'openai': [open_ai],\n",
    "        'timestamp': [datetime.now().strftime('%Y-%m-%d %H:%M:%S')]\n",
    "    }\n",
    "\n",
    "    df = pd.DataFrame(data)\n",
    "\n",
    "    file_path = 'responses.csv'\n",
    "    try:\n",
    "        existing_df = pd.read_csv(file_path)\n",
    "        updated_df = pd.concat([existing_df, df], ignore_index=True)\n",
    "        updated_df.to_csv(file_path, index=False)\n",
    "    except FileNotFoundError:\n",
    "        df.to_csv(file_path, index=False)"
   ],
   "id": "3b39bddb75687d80",
   "outputs": [],
   "execution_count": 16
  },
  {
   "metadata": {
    "ExecuteTime": {
     "end_time": "2025-04-12T14:57:20.860303Z",
     "start_time": "2025-04-12T14:57:20.857542Z"
    }
   },
   "cell_type": "code",
   "source": [
    "def generate(user_promt):\n",
    "    print(user_promt)\n",
    "    d = deekpeek_context_string(system_prompt_v1, user_promt)\n",
    "    o = openai_context_string(system_prompt_v1, user_promt)\n",
    "    return d,o"
   ],
   "id": "9d89892fd5e18bfa",
   "outputs": [],
   "execution_count": 17
  },
  {
   "metadata": {
    "ExecuteTime": {
     "end_time": "2025-04-12T14:57:22.162136Z",
     "start_time": "2025-04-12T14:57:22.160503Z"
    }
   },
   "cell_type": "code",
   "source": "",
   "id": "69a606b3c42e6368",
   "outputs": [],
   "execution_count": 17
  },
  {
   "metadata": {
    "ExecuteTime": {
     "end_time": "2025-04-12T14:57:35.916407Z",
     "start_time": "2025-04-12T14:57:22.506710Z"
    }
   },
   "cell_type": "code",
   "source": [
    "user_prompt = \"Салават Юлаев и Спартак. Когда ближайший матч?\"\n",
    "d, o = generate(user_prompt)\n",
    "save_csv(user_prompt, d, o)"
   ],
   "id": "f86a25196480d2ca",
   "outputs": [
    {
     "name": "stdout",
     "output_type": "stream",
     "text": [
      "Салават Юлаев и Спартак. Когда ближайший матч?\n"
     ]
    }
   ],
   "execution_count": 18
  },
  {
   "metadata": {
    "ExecuteTime": {
     "end_time": "2025-04-12T14:57:35.920006Z",
     "start_time": "2025-04-12T14:57:35.917635Z"
    }
   },
   "cell_type": "code",
   "source": "print(d)",
   "id": "e84d5d6cf1782819",
   "outputs": [
    {
     "name": "stdout",
     "output_type": "stream",
     "text": [
      "Ближайший матч между **Салаватом Юлаев** (Уфа) и **Спартаком** (Москва) в КХЛ состоится:  \n",
      "\n",
      "- **Дата:** 24 декабря 2024 года  \n",
      "- **Место проведения:** Уфа-Арена (Уфа)  \n",
      "- **Турнир:** Регулярный чемпионат КХЛ 2024/25  \n",
      "\n",
      "Если вам нужна более детальная аналитика по предстоящей игре (последние результаты, статистика встреч и т. д.), уточните запрос.\n"
     ]
    }
   ],
   "execution_count": 19
  },
  {
   "metadata": {
    "ExecuteTime": {
     "end_time": "2025-04-12T14:57:35.924294Z",
     "start_time": "2025-04-12T14:57:35.920548Z"
    }
   },
   "cell_type": "code",
   "source": "print(o)",
   "id": "6408c2568ff15277",
   "outputs": [
    {
     "name": "stdout",
     "output_type": "stream",
     "text": [
      "На текущий момент ближайший матч между командами Салават Юлаев и Спартак пройдет 28 ноября 2023 года. Эти команды выступают в Континентальной хоккейной лиге (КХЛ), и их встречи являются интересными для игроков и болельщиков.\n",
      "\n",
      "Если вас интересует более детальная аналитика их текущей формы или статистики, пожалуйста, дайте знать!\n"
     ]
    }
   ],
   "execution_count": 20
  },
  {
   "metadata": {
    "ExecuteTime": {
     "end_time": "2025-04-19T15:47:00.691393Z",
     "start_time": "2025-04-19T15:47:00.687173Z"
    }
   },
   "cell_type": "code",
   "source": "from request_llm import prompt_with_web_search",
   "id": "6450360327a8be1",
   "outputs": [],
   "execution_count": 4
  },
  {
   "metadata": {
    "ExecuteTime": {
     "end_time": "2025-04-19T15:47:20.676242Z",
     "start_time": "2025-04-19T15:47:17.018297Z"
    }
   },
   "cell_type": "code",
   "source": "print(prompt_with_web_search(\"Какой сегодня день?\"))",
   "id": "2b918953a38964e7",
   "outputs": [
    {
     "name": "stdout",
     "output_type": "stream",
     "text": [
      "Сегодня суббота, 19 апреля 2025 года. \n"
     ]
    }
   ],
   "execution_count": 5
  },
  {
   "metadata": {},
   "cell_type": "code",
   "outputs": [],
   "execution_count": null,
   "source": "",
   "id": "8f24cf6c0f6de440"
  }
 ],
 "metadata": {
  "kernelspec": {
   "display_name": "Python 3",
   "language": "python",
   "name": "python3"
  },
  "language_info": {
   "codemirror_mode": {
    "name": "ipython",
    "version": 2
   },
   "file_extension": ".py",
   "mimetype": "text/x-python",
   "name": "python",
   "nbconvert_exporter": "python",
   "pygments_lexer": "ipython2",
   "version": "2.7.6"
  }
 },
 "nbformat": 4,
 "nbformat_minor": 5
}
