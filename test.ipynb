{
 "cells": [
  {
   "metadata": {},
   "cell_type": "markdown",
   "source": "### Тестирование промтов и аналитика результата",
   "id": "85c06db55a8ce6af"
  },
  {
   "cell_type": "code",
   "id": "initial_id",
   "metadata": {
    "collapsed": true,
    "ExecuteTime": {
     "end_time": "2025-04-11T06:53:19.970591Z",
     "start_time": "2025-04-11T06:53:19.935876Z"
    }
   },
   "source": [
    "from scriptss import config\n",
    "from request_llm import deekpeek_context_string, openai_context_string\n",
    "from handlers.llm_system_prompts import system_prompt_v1"
   ],
   "outputs": [],
   "execution_count": 3
  },
  {
   "metadata": {
    "ExecuteTime": {
     "end_time": "2025-04-11T06:53:23.553819Z",
     "start_time": "2025-04-11T06:53:21.544416Z"
    }
   },
   "cell_type": "code",
   "source": [
    "import pandas as pd\n",
    "from datetime import datetime\n",
    "\n",
    "def save_csv(query, deepseek, open_ai):\n",
    "    data = {\n",
    "        'query': [query],\n",
    "        'deepseek': [deepseek],\n",
    "        'openai': [open_ai],\n",
    "        'timestamp': [datetime.now().strftime('%Y-%m-%d %H:%M:%S')]\n",
    "    }\n",
    "\n",
    "    df = pd.DataFrame(data)\n",
    "\n",
    "    file_path = 'responses.csv'\n",
    "    try:\n",
    "        existing_df = pd.read_csv(file_path)\n",
    "        updated_df = pd.concat([existing_df, df], ignore_index=True)\n",
    "        updated_df.to_csv(file_path, index=False)\n",
    "    except FileNotFoundError:\n",
    "        df.to_csv(file_path, index=False)"
   ],
   "id": "3b39bddb75687d80",
   "outputs": [],
   "execution_count": 4
  },
  {
   "metadata": {
    "ExecuteTime": {
     "end_time": "2025-04-11T06:53:25.993400Z",
     "start_time": "2025-04-11T06:53:25.991650Z"
    }
   },
   "cell_type": "code",
   "source": [
    "def generate(user_promt):\n",
    "    print(user_promt)\n",
    "    d = deekpeek_context_string(system_prompt_v1, user_promt)\n",
    "    o = openai_context_string(system_prompt_v1, user_promt)\n",
    "    return d,o"
   ],
   "id": "9d89892fd5e18bfa",
   "outputs": [],
   "execution_count": 5
  },
  {
   "metadata": {
    "ExecuteTime": {
     "end_time": "2025-04-11T06:53:27.356819Z",
     "start_time": "2025-04-11T06:53:27.354781Z"
    }
   },
   "cell_type": "code",
   "source": "",
   "id": "69a606b3c42e6368",
   "outputs": [],
   "execution_count": 5
  },
  {
   "metadata": {
    "ExecuteTime": {
     "end_time": "2025-04-11T07:00:29.286210Z",
     "start_time": "2025-04-11T07:00:16.503836Z"
    }
   },
   "cell_type": "code",
   "source": [
    "user_prompt = \"Салават Юлаев и Спартак. Когда ближайший матч?\"\n",
    "d, o = generate(user_prompt)\n",
    "save_csv(user_prompt, d, o)"
   ],
   "id": "f86a25196480d2ca",
   "outputs": [
    {
     "name": "stdout",
     "output_type": "stream",
     "text": [
      "Салават Юлаев и Спартак. Когда ближайший матч?\n"
     ]
    }
   ],
   "execution_count": 11
  },
  {
   "metadata": {
    "ExecuteTime": {
     "end_time": "2025-04-11T07:00:52.979368Z",
     "start_time": "2025-04-11T07:00:52.977090Z"
    }
   },
   "cell_type": "code",
   "source": "print(d)",
   "id": "e84d5d6cf1782819",
   "outputs": [
    {
     "name": "stdout",
     "output_type": "stream",
     "text": [
      "Ближайший матч между **Салаватом Юлаевым** (Уфа) и **Спартаком** (Москва) в КХЛ состоится:  \n",
      "\n",
      "- **Дата:** 11 декабря 2024 года  \n",
      "- **Место проведения:** Уфа-Арена (Уфа)  \n",
      "- **Турнир:** Регулярный чемпионат КХЛ 2024/2025  \n",
      "\n",
      "Если вам нужна аналитика по этому матчу, уточните, и я предоставлю статистику последних встреч, текущую форму команд и другие факты.\n"
     ]
    }
   ],
   "execution_count": 13
  },
  {
   "metadata": {
    "ExecuteTime": {
     "end_time": "2025-04-11T07:01:00.342164Z",
     "start_time": "2025-04-11T07:01:00.337333Z"
    }
   },
   "cell_type": "code",
   "source": "print(o)",
   "id": "6408c2568ff15277",
   "outputs": [
    {
     "name": "stdout",
     "output_type": "stream",
     "text": [
      "К сожалению, у меня нет доступа к текущим данным о расписании матчей и результатах игр, так как моя база завершена в октябре 2023 года. Для получения актуальной информации о ближайшем матче между командами Салават Юлаев и Спартак рекомендую обратиться к спортивным новостным сайтам или официальным страницам клубов.\n"
     ]
    }
   ],
   "execution_count": 14
  },
  {
   "metadata": {},
   "cell_type": "code",
   "outputs": [],
   "execution_count": null,
   "source": "",
   "id": "6450360327a8be1"
  }
 ],
 "metadata": {
  "kernelspec": {
   "display_name": "Python 3",
   "language": "python",
   "name": "python3"
  },
  "language_info": {
   "codemirror_mode": {
    "name": "ipython",
    "version": 2
   },
   "file_extension": ".py",
   "mimetype": "text/x-python",
   "name": "python",
   "nbconvert_exporter": "python",
   "pygments_lexer": "ipython2",
   "version": "2.7.6"
  }
 },
 "nbformat": 4,
 "nbformat_minor": 5
}
